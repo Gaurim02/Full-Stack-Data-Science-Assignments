{
 "cells": [
  {
   "cell_type": "markdown",
   "id": "c41ee332",
   "metadata": {},
   "source": [
    "# Python Basics Variable"
   ]
  },
  {
   "cell_type": "markdown",
   "id": "ea341d21",
   "metadata": {},
   "source": [
    "1. Declare two variables, `x` and `y`, and assign them integer values. Swap the   \n",
    "values of these variables without using any temporary variable."
   ]
  },
  {
   "cell_type": "code",
   "execution_count": 11,
   "id": "20ccc3f5",
   "metadata": {},
   "outputs": [
    {
     "name": "stdout",
     "output_type": "stream",
     "text": [
      "x is 20\n",
      "y is 10\n"
     ]
    }
   ],
   "source": [
    "x = 10\n",
    "y = 20\n",
    "\n",
    "x = x + y\n",
    "y = x - y\n",
    "x = x - y\n",
    "\n",
    "print(\"x is\", x)\n",
    "print(\"y is\", y)"
   ]
  },
  {
   "cell_type": "markdown",
   "id": "67724c40",
   "metadata": {},
   "source": [
    "2. Create a program that calculates the area of a rectangle. Take the length and \n",
    "width as inputs from the user and store them in variables. Calculate and \n",
    "display the area."
   ]
  },
  {
   "cell_type": "code",
   "execution_count": 12,
   "id": "1af528d4",
   "metadata": {},
   "outputs": [
    {
     "name": "stdout",
     "output_type": "stream",
     "text": [
      "Enter the length: 10\n",
      "Enter the width: 7\n",
      "Area of rectangle is  70\n"
     ]
    }
   ],
   "source": [
    "length = int(input(\"Enter the length: \"))\n",
    "width = int(input(\"Enter the width: \"))\n",
    "\n",
    "area = length * width\n",
    "print(\"Area of rectangle is \", area)"
   ]
  },
  {
   "cell_type": "markdown",
   "id": "e2fef71c",
   "metadata": {},
   "source": [
    "3. Write a Python program that converts temperatures from Celsius to \n",
    "Fahrenheit. Take the temperature in Celsius as input, store it in a variable, \n",
    "convert it to Fahrenheit, and display the result."
   ]
  },
  {
   "cell_type": "code",
   "execution_count": 13,
   "id": "75264a7c",
   "metadata": {},
   "outputs": [
    {
     "name": "stdout",
     "output_type": "stream",
     "text": [
      "Enter the temperature in celsius: 70\n",
      "Temperature 70 in Celsius is 158.0 in Fahrenheit\n"
     ]
    }
   ],
   "source": [
    "temp_cel = int(input(\"Enter the temperature in celsius: \"))\n",
    "\n",
    "temp_fah = (temp_cel * 9/5) + 32\n",
    "\n",
    "print(f\"Temperature {temp_cel} in Celsius is {temp_fah} in Fahrenheit\")"
   ]
  },
  {
   "cell_type": "markdown",
   "id": "92d60c49",
   "metadata": {},
   "source": [
    "# String Based Questions"
   ]
  },
  {
   "cell_type": "markdown",
   "id": "f3732345",
   "metadata": {},
   "source": [
    " 1. Write a Python program that takes a string as input and prints the length of \n",
    "the string."
   ]
  },
  {
   "cell_type": "code",
   "execution_count": 14,
   "id": "094e2d3c",
   "metadata": {},
   "outputs": [
    {
     "name": "stdout",
     "output_type": "stream",
     "text": [
      "Enter the String: Gauri Maid\n"
     ]
    },
    {
     "data": {
      "text/plain": [
       "10"
      ]
     },
     "execution_count": 14,
     "metadata": {},
     "output_type": "execute_result"
    }
   ],
   "source": [
    "s1 = input(\"Enter the String: \")\n",
    "len(s1)"
   ]
  },
  {
   "cell_type": "markdown",
   "id": "27b250ed",
   "metadata": {},
   "source": [
    "2. Create a program that takes a sentence from the user and counts the number \n",
    "of vowels (a, e, i, o, u) in the string."
   ]
  },
  {
   "cell_type": "code",
   "execution_count": 15,
   "id": "d3b3989e",
   "metadata": {},
   "outputs": [
    {
     "name": "stdout",
     "output_type": "stream",
     "text": [
      "Enter the sentence: gauri satish maid\n",
      "7\n"
     ]
    }
   ],
   "source": [
    "s2 = input(\"Enter the sentence: \")\n",
    "summ = 0\n",
    "for i in s2:\n",
    "    if i in 'aeiouAEIOU':\n",
    "        summ += 1\n",
    "print(summ)"
   ]
  },
  {
   "cell_type": "markdown",
   "id": "d75877d5",
   "metadata": {},
   "source": [
    "3. Given a string, reverse the order of characters using string slicing and print \n",
    "the reversed string."
   ]
  },
  {
   "cell_type": "code",
   "execution_count": 22,
   "id": "0244b26e",
   "metadata": {},
   "outputs": [
    {
     "name": "stdout",
     "output_type": "stream",
     "text": [
      "Enter the string: pwskills\n"
     ]
    },
    {
     "data": {
      "text/plain": [
       "'sllikswp'"
      ]
     },
     "execution_count": 22,
     "metadata": {},
     "output_type": "execute_result"
    }
   ],
   "source": [
    "s3 = input(\"Enter the string: \")\n",
    "\n",
    "s3[-1::-1]\n"
   ]
  },
  {
   "cell_type": "markdown",
   "id": "52bb100e",
   "metadata": {},
   "source": [
    "4. Write a program that takes a string as input and checks if it is a palindrome \n",
    "(reads the same forwards and backwards)."
   ]
  },
  {
   "cell_type": "code",
   "execution_count": 7,
   "id": "3300cd1f",
   "metadata": {},
   "outputs": [
    {
     "name": "stdout",
     "output_type": "stream",
     "text": [
      "Enter the string: civic\n",
      "civic is Palindrome\n"
     ]
    }
   ],
   "source": [
    "s4 = input(\"Enter the string: \")\n",
    "palin = s4[-1::-1]\n",
    "if s4 == palin:\n",
    "    print(f\"{s4} is Palindrome\")\n",
    "else:\n",
    "    print(f\"{s4} is not Palindrome\")"
   ]
  },
  {
   "cell_type": "markdown",
   "id": "b2594d92",
   "metadata": {},
   "source": [
    " 5. Create a program that takes a string as input and removes all the spaces from \n",
    "it. Print the modified string without spaces."
   ]
  },
  {
   "cell_type": "code",
   "execution_count": 8,
   "id": "19f3a58d",
   "metadata": {},
   "outputs": [
    {
     "name": "stdout",
     "output_type": "stream",
     "text": [
      "Enter the string: pw skill s\n"
     ]
    },
    {
     "data": {
      "text/plain": [
       "'pwskills'"
      ]
     },
     "execution_count": 8,
     "metadata": {},
     "output_type": "execute_result"
    }
   ],
   "source": [
    "s5 = input(\"Enter the string: \")\n",
    "s5.replace(\" \",\"\")"
   ]
  },
  {
   "cell_type": "code",
   "execution_count": null,
   "id": "07e18433",
   "metadata": {},
   "outputs": [],
   "source": []
  }
 ],
 "metadata": {
  "kernelspec": {
   "display_name": "Python 3 (ipykernel)",
   "language": "python",
   "name": "python3"
  },
  "language_info": {
   "codemirror_mode": {
    "name": "ipython",
    "version": 3
   },
   "file_extension": ".py",
   "mimetype": "text/x-python",
   "name": "python",
   "nbconvert_exporter": "python",
   "pygments_lexer": "ipython3",
   "version": "3.9.13"
  }
 },
 "nbformat": 4,
 "nbformat_minor": 5
}
